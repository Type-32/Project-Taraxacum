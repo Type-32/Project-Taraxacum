{
 "cells": [
  {
   "cell_type": "markdown",
   "source": [
    "# Programs"
   ],
   "metadata": {
    "collapsed": false
   },
   "id": "97a03dfaa9ae0bb6"
  },
  {
   "cell_type": "markdown",
   "source": [
    "The programs below shows the iteration of our code trying to implement the PDF in the form of Python Code."
   ],
   "metadata": {
    "collapsed": false
   },
   "id": "d8728d6fcb0cd604"
  },
  {
   "cell_type": "markdown",
   "source": [
    "### Linear Probability Density Function\n",
    "This is the Linear Implementation in Python of the **Probability Density Function** in a Python Function."
   ],
   "metadata": {
    "collapsed": false
   },
   "id": "f19b2d519b2facbf"
  },
  {
   "cell_type": "code",
   "execution_count": null,
   "outputs": [],
   "source": [
    "import numpy as np\n",
    "import matplotlib.pyplot as plt\n",
    "from scipy.stats import norm\n",
    "\n",
    "def linearPDF(mean: float, std_dev: float, plotGraph: bool = True):\n",
    "    # Generate a range of x values\n",
    "    x = np.linspace(mean - 4*std_dev, mean + 4*std_dev, 100)\n",
    "\n",
    "    # Calculate the corresponding PDF values\n",
    "    y = norm.pdf(x, mean, std_dev)\n",
    "\n",
    "    # Plot the PDF\n",
    "    if plotGraph:\n",
    "        plt.plot(x, y)\n",
    "        plt.title('Probability Density Function')\n",
    "        plt.xlabel('x')\n",
    "        plt.ylabel('Probability Density')\n",
    "        plt.show()\n",
    "\n",
    "# Example usage: plot_pdf(float(input(\"Enter Mu_X: \")), float(input(\"Enter Mu_Y: \")))"
   ],
   "metadata": {
    "collapsed": false
   },
   "id": "f66e2b11652b511f"
  },
  {
   "cell_type": "markdown",
   "source": [
    "### Two-Dimensional Probability Density Function\n",
    "This function presents the PDF in a two-dimensional form with available parameters: `mu_x, mu_y, sigma_x, sigma_y, rho, a, b, c, d`"
   ],
   "metadata": {
    "collapsed": false
   },
   "id": "834c05022306212a"
  },
  {
   "cell_type": "code",
   "execution_count": null,
   "outputs": [],
   "source": [
    "import numpy as np\n",
    "from scipy.stats import multivariate_normal\n",
    "\n",
    "def twodimPDF(mu_x: float, mu_y: float, sigma_x: float, sigma_y: float, rho: float, a: float, b: float, c: float, d: float, plotGraph: bool = True):\n",
    "    # Define the mean vector and covariance matrix\n",
    "    mean = [mu_x, mu_y]\n",
    "    covariance = [[sigma_x**2, rho*sigma_x*sigma_y], [rho*sigma_x*sigma_y, sigma_y**2]]\n",
    "\n",
    "    # Create a grid of points\n",
    "    x = np.linspace(mu_x - a, mu_x + b, 100)\n",
    "    y = np.linspace(mu_y - c, mu_y + d, 100)\n",
    "    X, Y = np.meshgrid(x, y)\n",
    "\n",
    "    # Stack the points into a 2D array\n",
    "    pos = np.dstack((X, Y))\n",
    "\n",
    "    # Create a multivariate normal distribution\n",
    "    rv = multivariate_normal(mean, covariance)\n",
    "\n",
    "    # Calculate the PDF\n",
    "    pdf = rv.pdf(pos)\n",
    "\n",
    "    # Plot the PDF\n",
    "    if plotGraph:\n",
    "        plt.figure(figsize=(8, 6))\n",
    "        plt.contourf(X, Y, pdf, cmap='viridis')\n",
    "        plt.colorbar()\n",
    "        plt.title('2D Gaussian Probability Density Function')\n",
    "        plt.xlabel('x')\n",
    "        plt.ylabel('y')\n",
    "        plt.show()\n",
    "\n",
    "    return pdf\n",
    "\n",
    "# Example Usage: twodimPDF(float(input(\"Enter Mu_X: \")), float(input(\"Enter Mu_Y: \")), float(input(\"Enter Sigma_X: \")), float(input(\"Enter Sigma_Y: \")), float(input(\"Enter Rho: \")), float(input(\"Enter A: \")), float(input(\"Enter B: \")), float(input(\"Enter C: \")), float(input(\"Enter D: \")))"
   ],
   "metadata": {
    "collapsed": false
   },
   "id": "173e62eb4bc9336f"
  },
  {
   "cell_type": "markdown",
   "source": [
    "We can use both functions and execute the following: (Example Cases: __0, 50, 1, 1, 0, 10, 10, 10, 10__)"
   ],
   "metadata": {
    "collapsed": false
   },
   "id": "a80888f659ff7e01"
  },
  {
   "cell_type": "code",
   "execution_count": 27,
   "outputs": [
    {
     "ename": "ValueError",
     "evalue": "could not convert string to float: ''",
     "output_type": "error",
     "traceback": [
      "\u001B[1;31m---------------------------------------------------------------------------\u001B[0m",
      "\u001B[1;31mValueError\u001B[0m                                Traceback (most recent call last)",
      "Cell \u001B[1;32mIn[27], line 1\u001B[0m\n\u001B[1;32m----> 1\u001B[0m mu_x, mu_y \u001B[38;5;241m=\u001B[39m \u001B[38;5;28mfloat\u001B[39m(\u001B[38;5;28minput\u001B[39m(\u001B[38;5;124m\"\u001B[39m\u001B[38;5;124mEnter Mu_X: \u001B[39m\u001B[38;5;124m\"\u001B[39m)), \u001B[38;5;28;43mfloat\u001B[39;49m\u001B[43m(\u001B[49m\u001B[38;5;28;43minput\u001B[39;49m\u001B[43m(\u001B[49m\u001B[38;5;124;43m\"\u001B[39;49m\u001B[38;5;124;43mEnter Mu_Y: \u001B[39;49m\u001B[38;5;124;43m\"\u001B[39;49m\u001B[43m)\u001B[49m\u001B[43m)\u001B[49m\n\u001B[0;32m      3\u001B[0m linearPDF(mu_x, mu_y)\n\u001B[0;32m      4\u001B[0m twodimPDF(mu_x, mu_y, \u001B[38;5;28mfloat\u001B[39m(\u001B[38;5;28minput\u001B[39m(\u001B[38;5;124m\"\u001B[39m\u001B[38;5;124mEnter Sigma_X: \u001B[39m\u001B[38;5;124m\"\u001B[39m)), \u001B[38;5;28mfloat\u001B[39m(\u001B[38;5;28minput\u001B[39m(\u001B[38;5;124m\"\u001B[39m\u001B[38;5;124mEnter Sigma_Y: \u001B[39m\u001B[38;5;124m\"\u001B[39m)), \u001B[38;5;28mfloat\u001B[39m(\u001B[38;5;28minput\u001B[39m(\u001B[38;5;124m\"\u001B[39m\u001B[38;5;124mEnter Rho: \u001B[39m\u001B[38;5;124m\"\u001B[39m)), \u001B[38;5;28mfloat\u001B[39m(\u001B[38;5;28minput\u001B[39m(\u001B[38;5;124m\"\u001B[39m\u001B[38;5;124mEnter A: \u001B[39m\u001B[38;5;124m\"\u001B[39m)), \u001B[38;5;28mfloat\u001B[39m(\u001B[38;5;28minput\u001B[39m(\u001B[38;5;124m\"\u001B[39m\u001B[38;5;124mEnter B: \u001B[39m\u001B[38;5;124m\"\u001B[39m)), \u001B[38;5;28mfloat\u001B[39m(\u001B[38;5;28minput\u001B[39m(\u001B[38;5;124m\"\u001B[39m\u001B[38;5;124mEnter C: \u001B[39m\u001B[38;5;124m\"\u001B[39m)), \u001B[38;5;28mfloat\u001B[39m(\u001B[38;5;28minput\u001B[39m(\u001B[38;5;124m\"\u001B[39m\u001B[38;5;124mEnter D: \u001B[39m\u001B[38;5;124m\"\u001B[39m)))\n",
      "\u001B[1;31mValueError\u001B[0m: could not convert string to float: ''"
     ]
    }
   ],
   "source": [
    "mu_x, mu_y = float(input(\"Enter Mu_X: \")), float(input(\"Enter Mu_Y: \"))\n",
    "\n",
    "linearPDF(mu_x, mu_y)\n",
    "twodimPDF(mu_x, mu_y, float(input(\"Enter Sigma_X: \")), float(input(\"Enter Sigma_Y: \")), float(input(\"Enter Rho: \")), float(input(\"Enter A: \")), float(input(\"Enter B: \")), float(input(\"Enter C: \")), float(input(\"Enter D: \")))"
   ],
   "metadata": {
    "collapsed": false,
    "ExecuteTime": {
     "end_time": "2023-11-03T17:53:36.161661200Z",
     "start_time": "2023-11-03T17:53:25.523976400Z"
    }
   },
   "id": "e491dea589b0a486"
  },
  {
   "cell_type": "code",
   "execution_count": null,
   "outputs": [],
   "source": [],
   "metadata": {
    "collapsed": false
   },
   "id": "c20806985c8f228c"
  }
 ],
 "metadata": {
  "kernelspec": {
   "display_name": "Python 3",
   "language": "python",
   "name": "python3"
  },
  "language_info": {
   "codemirror_mode": {
    "name": "ipython",
    "version": 2
   },
   "file_extension": ".py",
   "mimetype": "text/x-python",
   "name": "python",
   "nbconvert_exporter": "python",
   "pygments_lexer": "ipython2",
   "version": "2.7.6"
  }
 },
 "nbformat": 4,
 "nbformat_minor": 5
}
