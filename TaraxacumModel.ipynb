{
 "cells": [
  {
   "cell_type": "markdown",
   "source": [
    "# Programs"
   ],
   "metadata": {
    "collapsed": false
   },
   "id": "97a03dfaa9ae0bb6"
  },
  {
   "cell_type": "markdown",
   "source": [
    "The programs below shows the iteration of our code trying to implement the PDF in the form of Python Code."
   ],
   "metadata": {
    "collapsed": false
   },
   "id": "d8728d6fcb0cd604"
  },
  {
   "cell_type": "markdown",
   "source": [
    "### Linear Probability Density Function\n",
    "This is the Linear Implementation in Python of the **Probability Density Function** in a Python Function."
   ],
   "metadata": {
    "collapsed": false
   },
   "id": "f19b2d519b2facbf"
  },
  {
   "cell_type": "code",
   "execution_count": null,
   "outputs": [],
   "source": [
    "import numpy as np\n",
    "import matplotlib.pyplot as plt\n",
    "from scipy.stats import norm\n",
    "\n",
    "def linearPDF(mean: float, std_dev: float, plotGraph: bool = True):\n",
    "    # Generate a range of x values\n",
    "    x = np.linspace(mean - 4*std_dev, mean + 4*std_dev, 100)\n",
    "\n",
    "    # Calculate the corresponding PDF values\n",
    "    y = norm.pdf(x, mean, std_dev)\n",
    "\n",
    "    # Plot the PDF\n",
    "    if plotGraph:\n",
    "        plt.plot(x, y)\n",
    "        plt.title('Probability Density Function')\n",
    "        plt.xlabel('x')\n",
    "        plt.ylabel('Probability Density')\n",
    "        plt.show()\n",
    "\n",
    "# Example usage: plot_pdf(float(input(\"Enter Mu_X: \")), float(input(\"Enter Mu_Y: \")))"
   ],
   "metadata": {
    "collapsed": false
   },
   "id": "f66e2b11652b511f"
  },
  {
   "cell_type": "markdown",
   "source": [
    "### Two-Dimensional Probability Density Function\n",
    "This function presents the PDF in a two-dimensional form with available parameters: `mu_x, mu_y, sigma_x, sigma_y, rho, a, b, c, d`"
   ],
   "metadata": {
    "collapsed": false
   },
   "id": "834c05022306212a"
  },
  {
   "cell_type": "code",
   "execution_count": null,
   "outputs": [],
   "source": [
    "import numpy as np\n",
    "from scipy.stats import multivariate_normal\n",
    "\n",
    "def twodimPDF(mu_x: float, mu_y: float, sigma_x: float, sigma_y: float, rho: float, a: float, b: float, c: float, d: float, plotGraph: bool = True):\n",
    "    # Define the mean vector and covariance matrix\n",
    "    mean = [mu_x, mu_y]\n",
    "    covariance = [[sigma_x**2, rho*sigma_x*sigma_y], [rho*sigma_x*sigma_y, sigma_y**2]]\n",
    "\n",
    "    # Create a grid of points\n",
    "    x = np.linspace(mu_x - a, mu_x + b, 100)\n",
    "    y = np.linspace(mu_y - c, mu_y + d, 100)\n",
    "    X, Y = np.meshgrid(x, y)\n",
    "\n",
    "    # Stack the points into a 2D array\n",
    "    pos = np.dstack((X, Y))\n",
    "\n",
    "    # Create a multivariate normal distribution\n",
    "    rv = multivariate_normal(mean, covariance)\n",
    "\n",
    "    # Calculate the PDF\n",
    "    pdf = rv.pdf(pos)\n",
    "\n",
    "    # Plot the PDF\n",
    "    if plotGraph:\n",
    "        plt.figure(figsize=(8, 6))\n",
    "        plt.contourf(X, Y, pdf, cmap='viridis')\n",
    "        plt.colorbar()\n",
    "        plt.title('2D Gaussian Probability Density Function')\n",
    "        plt.xlabel('x')\n",
    "        plt.ylabel('y')\n",
    "        plt.show()\n",
    "\n",
    "    return pdf\n",
    "\n",
    "# Example Usage: twodimPDF(float(input(\"Enter Mu_X: \")), float(input(\"Enter Mu_Y: \")), float(input(\"Enter Sigma_X: \")), float(input(\"Enter Sigma_Y: \")), float(input(\"Enter Rho: \")), float(input(\"Enter A: \")), float(input(\"Enter B: \")), float(input(\"Enter C: \")), float(input(\"Enter D: \")))"
   ],
   "metadata": {
    "collapsed": false
   },
   "id": "173e62eb4bc9336f"
  },
  {
   "cell_type": "markdown",
   "source": [
    "We can use both functions and execute the following: (Example Cases: __0, 50, 1, 1, 0, 10, 10, 10, 10__)"
   ],
   "metadata": {
    "collapsed": false
   },
   "id": "a80888f659ff7e01"
  },
  {
   "cell_type": "code",
   "execution_count": null,
   "outputs": [],
   "source": [
    "mu_x, mu_y = float(input(\"Enter Mu_X: \")), float(input(\"Enter Mu_Y: \"))\n",
    "\n",
    "linearPDF(mu_x, mu_y)\n",
    "twodimPDF(mu_x, mu_y, float(input(\"Enter Sigma_X: \")), float(input(\"Enter Sigma_Y: \")), float(input(\"Enter Rho: \")), float(input(\"Enter A: \")), float(input(\"Enter B: \")), float(input(\"Enter C: \")), float(input(\"Enter D: \")))"
   ],
   "metadata": {
    "collapsed": false
   },
   "id": "e491dea589b0a486"
  }
 ],
 "metadata": {
  "kernelspec": {
   "display_name": "Python 3",
   "language": "python",
   "name": "python3"
  },
  "language_info": {
   "codemirror_mode": {
    "name": "ipython",
    "version": 2
   },
   "file_extension": ".py",
   "mimetype": "text/x-python",
   "name": "python",
   "nbconvert_exporter": "python",
   "pygments_lexer": "ipython2",
   "version": "2.7.6"
  }
 },
 "nbformat": 4,
 "nbformat_minor": 5
}
